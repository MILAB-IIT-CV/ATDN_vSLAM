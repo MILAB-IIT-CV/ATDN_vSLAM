{
 "cells": [
  {
   "cell_type": "markdown",
   "metadata": {},
   "source": [
    "# Testing odometry"
   ]
  },
  {
   "cell_type": "code",
   "execution_count": null,
   "metadata": {},
   "outputs": [],
   "source": [
    "import glob\n",
    "import time\n",
    "\n",
    "from tqdm.notebook import trange\n",
    "import torch\n",
    "import numpy as np\n",
    "import matplotlib as mpl\n",
    "mpl.rcParams['figure.dpi'] = 100\n",
    "import matplotlib.pyplot as plt\n",
    "\n",
    "from slam_framework.neural_slam import NeuralSLAM\n",
    "from utils.helpers import log\n",
    "from utils.arguments import Arguments\n",
    "from localization.datasets import ColorDataset\n",
    "\n",
    "\n",
    "args = Arguments.get_arguments()\n",
    "sequence_length = 1\n",
    "\n",
    "dataset = ColorDataset(data_path=args.data_path, sequence=\"00\")\n",
    "\n",
    "weights_file = \"checkpoints/10_1atdnvo_c.pth\" # TODO overwrite tod actual\n",
    "slam = NeuralSLAM(args, odometry_weights=weights_file)"
   ]
  },
  {
   "cell_type": "code",
   "execution_count": null,
   "metadata": {},
   "outputs": [],
   "source": [
    "slam.start_odometry()\n",
    "print(\"SLAM mode: \", slam.mode())"
   ]
  },
  {
   "cell_type": "code",
   "execution_count": null,
   "metadata": {},
   "outputs": [],
   "source": [
    "global_scale = []\n",
    "slam_call_time = []\n",
    "\n",
    "for i in trange(len(dataset)):\n",
    "    img = dataset[i]\n",
    "    \n",
    "    start = time.time()\n",
    "    current_pose = slam(img.squeeze())\n",
    "    end = time.time()\n",
    "    \n",
    "    slam_call_time.append(end-start)\n",
    "    global_scale.append(current_pose)\n",
    "\n",
    "\n",
    "global_scale = torch.stack(global_scale, dim=0)\n",
    "slam_call_time = np.array(slam_call_time)"
   ]
  },
  {
   "cell_type": "markdown",
   "metadata": {},
   "source": [
    "## FPS calculation"
   ]
  },
  {
   "cell_type": "code",
   "execution_count": null,
   "metadata": {},
   "outputs": [],
   "source": [
    "log(\"Average odometry time: \", slam_call_time.mean())\n",
    "log(\"Odometry time std: \", slam_call_time.std())\n",
    "fps_manual = 1/(slam_call_time.mean())\n",
    "log(\"FPS from time: \", 1/slam_call_time.mean())"
   ]
  },
  {
   "cell_type": "markdown",
   "metadata": {},
   "source": [
    "## Keyframe check"
   ]
  },
  {
   "cell_type": "code",
   "execution_count": null,
   "metadata": {},
   "outputs": [],
   "source": [
    "slam.end_odometry()"
   ]
  },
  {
   "attachments": {},
   "cell_type": "markdown",
   "metadata": {},
   "source": [
    "### Check wheter odometry state saved poses correctly"
   ]
  },
  {
   "cell_type": "code",
   "execution_count": null,
   "metadata": {},
   "outputs": [],
   "source": [
    "import matplotlib.pyplot as plt\n",
    "\n",
    "DATA_PATH = args.keyframes_path + \"/poses.pth\"\n",
    "poses = torch.load(DATA_PATH)\n",
    "print(poses.shape)\n",
    "X = poses[:, 3]\n",
    "Z = poses[:, -1]\n",
    "plt.scatter(X.numpy(), Z.numpy())\n",
    "plt.show()"
   ]
  },
  {
   "attachments": {},
   "cell_type": "markdown",
   "metadata": {},
   "source": [
    "### Check keyframe recovery"
   ]
  },
  {
   "cell_type": "code",
   "execution_count": null,
   "metadata": {},
   "outputs": [],
   "source": [
    "keyframe_positions = []\n",
    "\n",
    "for i in range(len(slam)):\n",
    "    pose = slam[i].pose\n",
    "    keyframe_positions.append(pose[:3, 3])\n",
    "\n",
    "keyframe_positions = torch.stack(keyframe_positions, dim=0).to(\"cpu\")\n",
    "global_pos = global_scale[:, :3, -1].to('cpu')\n",
    "X, Y, Z = global_pos[:, 0], global_pos[:, 1], global_pos[:, 2]\n",
    "X_key, Y_key, Z_key = keyframe_positions[:, 0], keyframe_positions[:, 1], keyframe_positions[:, 2]\n",
    "\n",
    "plt.plot(X, Z)\n",
    "plt.scatter(X_key, Z_key)\n",
    "plt.show()\n",
    "\n",
    "plt.plot(X); plt.show()\n",
    "plt.plot(Y); plt.show()\n",
    "plt.plot(Z); plt.show()"
   ]
  },
  {
   "cell_type": "code",
   "execution_count": null,
   "metadata": {},
   "outputs": [],
   "source": [
    "slam = NeuralSLAM(args, odometry_weights=weights_file, start_mode=\"mapping\")\n",
    "\n",
    "keyframe_positions = []\n",
    "\n",
    "for i in range(len(slam)):\n",
    "    keyframe_positions.append(slam[i].pose[:3, 3])\n",
    "\n",
    "keyframe_positions = torch.stack(keyframe_positions, dim=0).to(\"cpu\")\n",
    "X_key, Y_key, Z_key = keyframe_positions[:, 0], keyframe_positions[:, 1], keyframe_positions[:, 2]\n",
    "\n",
    "plt.plot(X, Z)\n",
    "plt.scatter(X_key, Z_key)\n",
    "plt.show()"
   ]
  },
  {
   "attachments": {},
   "cell_type": "markdown",
   "metadata": {},
   "source": [
    "------------------------------------------------\n",
    "# Test mapping"
   ]
  },
  {
   "cell_type": "code",
   "execution_count": null,
   "metadata": {},
   "outputs": [],
   "source": [
    "import time\n",
    "\n",
    "import torch\n",
    "import torchvision.transforms.functional as TF\n",
    "import numpy as np\n",
    "import matplotlib.pyplot as plt\n",
    "import matplotlib as mpl\n",
    "mpl.rcParams['figure.dpi'] = 100\n",
    "\n",
    "from utils.helpers import log\n",
    "from utils.transforms import matrix2euler\n",
    "from utils.arguments import Arguments\n",
    "from odometry.datasets import KittiOdometryDataset\n",
    "from slam_framework.neural_slam import NeuralSLAM\n",
    "\n",
    "\n",
    "args = Arguments.get_arguments()\n",
    "dataset = KittiOdometryDataset(data_path=args.data_path, sequence=\"00\")\n",
    "\n",
    "weights_file = \"checkpoints/10_1atdnvo_c.pth\" # TODO overwrite to actual\n",
    "slam = NeuralSLAM(args, odometry_weights=weights_file, start_mode=\"relocalization\")\n",
    "\n",
    "with torch.no_grad():\n",
    "    rgb, true_orientation, true_position = dataset[195]\n",
    "    rgb = TF.resize(rgb, (376, 1232))\n",
    "    initial_pose, refined_pose, distances = slam(rgb)\n",
    "    log(\"Distances shape\", distances.shape)\n",
    "\n",
    "    # Histogram\n",
    "    plt.hist(distances.cpu().numpy(), bins=1000)\n",
    "    plt.xlabel(\"Distance from sample\")\n",
    "    plt.ylabel(\"Count of elements\")\n",
    "    plt.show()\n",
    "\n",
    "    plt.plot(distances.cpu().numpy())\n",
    "    plt.xlabel(\"Index of keyframe\")\n",
    "    plt.ylabel(\"Embedding distance from sample\")\n",
    "    plt.show()\n",
    "    \n",
    "    # Predicted index\n",
    "    pred_index = torch.argmin(distances)\n",
    "    distances[pred_index] = distances.max()\n",
    "    second_pred_index = torch.argmin(distances)\n",
    "    print(pred_index)\n",
    "    print(second_pred_index)\n",
    "\n",
    "pred_im = torch.load(slam[int(pred_index.squeeze())].rgb_file_name).permute(1, 2, 0)\n",
    "second_pred_im = torch.load(slam[int(second_pred_index.squeeze())].rgb_file_name).permute(1, 2, 0)\n",
    "plt.imshow(pred_im); plt.show()\n",
    "plt.imshow(second_pred_im); plt.show()\n",
    "\n",
    "def to_vectors(mat):\n",
    "    orientation = matrix2euler(mat[:3, :3])\n",
    "    position = mat[:3, -1]\n",
    "    return orientation, position\n",
    "\n",
    "initial_orientation, initial_position = to_vectors(initial_pose.to(\"cpu\"))\n",
    "refined_orientation, refined_position = to_vectors(refined_pose.to(\"cpu\"))\n",
    "\n",
    "log(\"True pose: \", [true_orientation, true_position])\n",
    "log(\"Initial estimate: \", [initial_orientation, initial_position])\n",
    "log(\"Refined estimate: \", [refined_orientation, refined_position])\n",
    "\n",
    "log(\"Initial difference: \", [(true_orientation-initial_orientation).abs().sum(), (true_position-initial_position).abs().sum()])\n",
    "log(\"Refined difference: \", [(true_orientation-refined_orientation).abs().sum(), (true_position-refined_position).abs().sum()])"
   ]
  }
 ],
 "metadata": {
  "kernelspec": {
   "display_name": ".venv",
   "language": "python",
   "name": "python3"
  },
  "language_info": {
   "codemirror_mode": {
    "name": "ipython",
    "version": 3
   },
   "file_extension": ".py",
   "mimetype": "text/x-python",
   "name": "python",
   "nbconvert_exporter": "python",
   "pygments_lexer": "ipython3",
   "version": "3.10.6 (main, Nov 14 2022, 16:10:14) [GCC 11.3.0]"
  },
  "orig_nbformat": 4,
  "vscode": {
   "interpreter": {
    "hash": "0230a353c5e4b8d25f997b0a5deba1a761b27a011b67f1762d5b099716d21945"
   }
  }
 },
 "nbformat": 4,
 "nbformat_minor": 2
}
