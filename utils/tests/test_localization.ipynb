{
 "cells": [
  {
   "cell_type": "markdown",
   "metadata": {},
   "source": [
    "## Testing Localozation net"
   ]
  },
  {
   "cell_type": "code",
   "execution_count": null,
   "metadata": {},
   "outputs": [],
   "source": [
    "from torchvision.transforms import Normalize\n",
    "from localization.datasets import DepthDataset, ColorDataset, ColorDepthDataset\n",
    "from utils.arguments import Arguments\n",
    "\n",
    "import torch\n",
    "import matplotlib as mpl\n",
    "mpl.rcParams['figure.dpi'] = 150\n",
    "import matplotlib.pyplot as plt\n",
    "import numpy as np\n",
    "from localization.localization import MappingVAE\n",
    "import cv2\n",
    "\n",
    "\n",
    "args = Arguments.get_arguments()\n",
    "\n",
    "rgb_dataset = ColorDataset(args.data_path, '00', hls=False)\n",
    "\n",
    "rgb_normalization = Normalize(mean=(0.485, 0.456, 0.406), std=(0.229, 0.224, 0.225))\n",
    "hls_normalization = Normalize(mean=(70.2209, 62.9458), std=(47.7068, 63.5109))\n",
    "depth_normalization = Normalize(mean=(0.4855), std=(0.169))\n",
    "\n",
    "known = (torch.randint(0, len(rgb_dataset)//5, (1, 1))*5).item()\n",
    "sample = known+3\n",
    "print(known)\n",
    "print(sample)"
   ]
  },
  {
   "cell_type": "code",
   "execution_count": null,
   "metadata": {},
   "outputs": [],
   "source": [
    "known = (torch.randint(0, len(rgb_dataset)//5, (1, 1))*5).item()\n",
    "sample = known+3\n",
    "print(known)\n",
    "\n",
    "model = MappingVAE(input_type='RGB')\n",
    "model.load_state_dict(torch.load(\"checkpoints/localization_RGB.pth\", map_location='cpu'))\n",
    "model.eval()\n",
    "image = rgb_dataset[sample]\n",
    "plt.imshow(image.permute(1, 2, 0).byte()); plt.show()\n",
    "_, _, _, reconstruction = model(image.unsqueeze(0))\n",
    "\n",
    "reconstruction = reconstruction.squeeze()\n",
    "\n",
    "# RGB\n",
    "mean=torch.tensor((0.485, 0.456, 0.406)).view(3, 1, 1)\n",
    "std=torch.tensor((0.229, 0.224, 0.225)).view(3, 1, 1)\n",
    "\n",
    "#y = (reconstruction*std)+mean\n",
    "y = reconstruction\n",
    "\n",
    "mi = torch.amin(y, dim=(1, 2)).view(3, 1, 1)\n",
    "y = y-mi\n",
    "ma = torch.amax(y, dim=(1, 2)).view(3, 1, 1)\n",
    "y = y/ma\n",
    "\n",
    "plt.imshow(y.permute(1, 2, 0).detach()); plt.show()"
   ]
  },
  {
   "cell_type": "code",
   "execution_count": null,
   "metadata": {},
   "outputs": [],
   "source": [
    "test_code, encoded, normed_code = model.get_code(rgb_dataset[sample].unsqueeze(0))\n",
    "test_code = test_code.squeeze().to('cpu').detach()\n",
    "\n",
    "code = test_code.flatten(1)\n",
    "def min_max_hist(code):\n",
    "    print(code.shape)\n",
    "    #mini = torch.amin(code, -1).int().detach().numpy()\n",
    "    #maxi = torch.amax(code, -1).int().detach().numpy()\n",
    "    #plt.hist(mini, np.arange(np.min(mini), np.max(mini), 10)); plt.title(\"Min\"); plt.show()\n",
    "    #plt.hist(maxi, np.arange(np.min(maxi), np.max(maxi), 10)); plt.title(\"Max\"); plt.show()\n",
    "\n",
    "print(encoded.shape)\n",
    "print(test_code.shape)\n",
    "print(normed_code.shape)\n",
    "min_max_hist(encoded.squeeze().flatten(1))\n",
    "min_max_hist(test_code.squeeze().flatten(1))\n",
    "min_max_hist(normed_code.squeeze().flatten(1))\n",
    "\n",
    "code = code.view(16, 8, 4, 13)\n",
    "\n",
    "row_delimiter = torch.ones((1, 113)).float()\n",
    "col_delimiter = torch.ones((4, 1)).float()\n",
    "\n",
    "plane = []\n",
    "plane.append(row_delimiter)\n",
    "for y in range(16):\n",
    "    row = []\n",
    "    row.append(col_delimiter)\n",
    "    for x in range(8):\n",
    "        row.append(code[y, x])\n",
    "        row.append(col_delimiter)\n",
    "    row = torch.cat(row, dim=1)\n",
    "    plane.append(row)\n",
    "    plane.append(row_delimiter)\n",
    "\n",
    "plane = torch.cat(plane, dim=0)\n",
    "\n",
    "plt.imshow(plane, cmap=\"gray\"); plt.show()\n",
    "print(plane.shape)"
   ]
  },
  {
   "cell_type": "code",
   "execution_count": null,
   "metadata": {},
   "outputs": [],
   "source": []
  }
 ],
 "metadata": {
  "kernelspec": {
   "display_name": "Python 3.6.8 ('.venv': venv)",
   "language": "python",
   "name": "python3"
  },
  "language_info": {
   "codemirror_mode": {
    "name": "ipython",
    "version": 3
   },
   "file_extension": ".py",
   "mimetype": "text/x-python",
   "name": "python",
   "nbconvert_exporter": "python",
   "pygments_lexer": "ipython3",
   "version": "3.6.8"
  },
  "orig_nbformat": 4,
  "vscode": {
   "interpreter": {
    "hash": "ced62223e3c5469e92c8ba3f5a602ca21340a744cd39a542d19ab48cded86bcc"
   }
  }
 },
 "nbformat": 4,
 "nbformat_minor": 2
}
